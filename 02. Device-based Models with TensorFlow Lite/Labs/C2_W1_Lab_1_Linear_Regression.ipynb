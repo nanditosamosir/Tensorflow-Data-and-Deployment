{
  "nbformat": 4,
  "nbformat_minor": 0,
  "metadata": {
    "colab": {
      "provenance": [],
      "gpuType": "T4"
    },
    "kernelspec": {
      "name": "python3",
      "display_name": "Python 3"
    },
    "language_info": {
      "name": "python"
    },
    "accelerator": "GPU"
  },
  "cells": [
    {
      "cell_type": "markdown",
      "source": [
        "# Running TFLite Models"
      ],
      "metadata": {
        "id": "kvjs8k9VDlCW"
      }
    },
    {
      "cell_type": "markdown",
      "source": [
        "## Setup"
      ],
      "metadata": {
        "id": "D-g89cfoDioE"
      }
    },
    {
      "cell_type": "code",
      "execution_count": 1,
      "metadata": {
        "colab": {
          "base_uri": "https://localhost:8080/"
        },
        "id": "RvrnBxGODG5S",
        "outputId": "41f0e48e-e996-4ebf-f87d-48055841f33e"
      },
      "outputs": [
        {
          "output_type": "stream",
          "name": "stdout",
          "text": [
            "Colab only includes TensorFlow 2.x; %tensorflow_version has no effect.\n"
          ]
        }
      ],
      "source": [
        "try:\n",
        "  %tensorflow_version 2.x\n",
        "except:\n",
        "  pass"
      ]
    },
    {
      "cell_type": "code",
      "source": [
        "import pathlib\n",
        "import numpy as np\n",
        "import matplotlib.pyplot as plt\n",
        "\n",
        "import tensorflow as tf\n",
        "\n",
        "print('\\u2022 Using TensorFlow Version:', tf.__version__)"
      ],
      "metadata": {
        "colab": {
          "base_uri": "https://localhost:8080/"
        },
        "id": "4pW56xbjDVBJ",
        "outputId": "4a92fa86-d52d-46a5-b560-f7bbce419fd2"
      },
      "execution_count": 2,
      "outputs": [
        {
          "output_type": "stream",
          "name": "stdout",
          "text": [
            "• Using TensorFlow Version: 2.15.0\n"
          ]
        }
      ]
    },
    {
      "cell_type": "markdown",
      "source": [
        "## Create a Basic Model of the Form **y = mx + x**"
      ],
      "metadata": {
        "id": "1NLe1lWTDne2"
      }
    },
    {
      "cell_type": "code",
      "source": [
        "# Create a simple Keras model.\n",
        "x = [-1, 0, 1, 2, 3, 4]\n",
        "y = [-1, -1, 1, 3, 5, 7]\n",
        "\n",
        "model = tf.keras.models.Sequential([\n",
        "    tf.keras.layers.Dense(units=1, input_shape=[1])\n",
        "])\n",
        "\n",
        "model.compile(optimizer='sgd',\n",
        "              loss='mean_squared_error')\n",
        "\n",
        "model.fit(x, y, epochs=200)"
      ],
      "metadata": {
        "colab": {
          "base_uri": "https://localhost:8080/"
        },
        "id": "LHcns9k-DcXu",
        "outputId": "705448f6-7686-4f3a-aa19-27e8c5a4c049"
      },
      "execution_count": 3,
      "outputs": [
        {
          "output_type": "stream",
          "name": "stdout",
          "text": [
            "Epoch 1/200\n",
            "1/1 [==============================] - 2s 2s/step - loss: 4.8602\n",
            "Epoch 2/200\n",
            "1/1 [==============================] - 0s 12ms/step - loss: 3.9199\n",
            "Epoch 3/200\n",
            "1/1 [==============================] - 0s 10ms/step - loss: 3.1796\n",
            "Epoch 4/200\n",
            "1/1 [==============================] - 0s 10ms/step - loss: 2.5965\n",
            "Epoch 5/200\n",
            "1/1 [==============================] - 0s 10ms/step - loss: 2.1372\n",
            "Epoch 6/200\n",
            "1/1 [==============================] - 0s 12ms/step - loss: 1.7753\n",
            "Epoch 7/200\n",
            "1/1 [==============================] - 0s 11ms/step - loss: 1.4901\n",
            "Epoch 8/200\n",
            "1/1 [==============================] - 0s 9ms/step - loss: 1.2651\n",
            "Epoch 9/200\n",
            "1/1 [==============================] - 0s 9ms/step - loss: 1.0876\n",
            "Epoch 10/200\n",
            "1/1 [==============================] - 0s 10ms/step - loss: 0.9475\n",
            "Epoch 11/200\n",
            "1/1 [==============================] - 0s 11ms/step - loss: 0.8367\n",
            "Epoch 12/200\n",
            "1/1 [==============================] - 0s 9ms/step - loss: 0.7491\n",
            "Epoch 13/200\n",
            "1/1 [==============================] - 0s 12ms/step - loss: 0.6797\n",
            "Epoch 14/200\n",
            "1/1 [==============================] - 0s 10ms/step - loss: 0.6246\n",
            "Epoch 15/200\n",
            "1/1 [==============================] - 0s 10ms/step - loss: 0.5808\n",
            "Epoch 16/200\n",
            "1/1 [==============================] - 0s 10ms/step - loss: 0.5459\n",
            "Epoch 17/200\n",
            "1/1 [==============================] - 0s 21ms/step - loss: 0.5180\n",
            "Epoch 18/200\n",
            "1/1 [==============================] - 0s 9ms/step - loss: 0.4957\n",
            "Epoch 19/200\n",
            "1/1 [==============================] - 0s 10ms/step - loss: 0.4776\n",
            "Epoch 20/200\n",
            "1/1 [==============================] - 0s 10ms/step - loss: 0.4630\n",
            "Epoch 21/200\n",
            "1/1 [==============================] - 0s 9ms/step - loss: 0.4512\n",
            "Epoch 22/200\n",
            "1/1 [==============================] - 0s 9ms/step - loss: 0.4414\n",
            "Epoch 23/200\n",
            "1/1 [==============================] - 0s 11ms/step - loss: 0.4334\n",
            "Epoch 24/200\n",
            "1/1 [==============================] - 0s 9ms/step - loss: 0.4267\n",
            "Epoch 25/200\n",
            "1/1 [==============================] - 0s 10ms/step - loss: 0.4210\n",
            "Epoch 26/200\n",
            "1/1 [==============================] - 0s 9ms/step - loss: 0.4162\n",
            "Epoch 27/200\n",
            "1/1 [==============================] - 0s 11ms/step - loss: 0.4121\n",
            "Epoch 28/200\n",
            "1/1 [==============================] - 0s 10ms/step - loss: 0.4085\n",
            "Epoch 29/200\n",
            "1/1 [==============================] - 0s 9ms/step - loss: 0.4053\n",
            "Epoch 30/200\n",
            "1/1 [==============================] - 0s 10ms/step - loss: 0.4025\n",
            "Epoch 31/200\n",
            "1/1 [==============================] - 0s 10ms/step - loss: 0.3999\n",
            "Epoch 32/200\n",
            "1/1 [==============================] - 0s 10ms/step - loss: 0.3976\n",
            "Epoch 33/200\n",
            "1/1 [==============================] - 0s 10ms/step - loss: 0.3954\n",
            "Epoch 34/200\n",
            "1/1 [==============================] - 0s 11ms/step - loss: 0.3935\n",
            "Epoch 35/200\n",
            "1/1 [==============================] - 0s 13ms/step - loss: 0.3916\n",
            "Epoch 36/200\n",
            "1/1 [==============================] - 0s 9ms/step - loss: 0.3898\n",
            "Epoch 37/200\n",
            "1/1 [==============================] - 0s 9ms/step - loss: 0.3881\n",
            "Epoch 38/200\n",
            "1/1 [==============================] - 0s 10ms/step - loss: 0.3865\n",
            "Epoch 39/200\n",
            "1/1 [==============================] - 0s 8ms/step - loss: 0.3850\n",
            "Epoch 40/200\n",
            "1/1 [==============================] - 0s 9ms/step - loss: 0.3835\n",
            "Epoch 41/200\n",
            "1/1 [==============================] - 0s 9ms/step - loss: 0.3821\n",
            "Epoch 42/200\n",
            "1/1 [==============================] - 0s 12ms/step - loss: 0.3807\n",
            "Epoch 43/200\n",
            "1/1 [==============================] - 0s 8ms/step - loss: 0.3794\n",
            "Epoch 44/200\n",
            "1/1 [==============================] - 0s 10ms/step - loss: 0.3781\n",
            "Epoch 45/200\n",
            "1/1 [==============================] - 0s 10ms/step - loss: 0.3768\n",
            "Epoch 46/200\n",
            "1/1 [==============================] - 0s 10ms/step - loss: 0.3755\n",
            "Epoch 47/200\n",
            "1/1 [==============================] - 0s 10ms/step - loss: 0.3743\n",
            "Epoch 48/200\n",
            "1/1 [==============================] - 0s 8ms/step - loss: 0.3731\n",
            "Epoch 49/200\n",
            "1/1 [==============================] - 0s 10ms/step - loss: 0.3720\n",
            "Epoch 50/200\n",
            "1/1 [==============================] - 0s 11ms/step - loss: 0.3709\n",
            "Epoch 51/200\n",
            "1/1 [==============================] - 0s 10ms/step - loss: 0.3698\n",
            "Epoch 52/200\n",
            "1/1 [==============================] - 0s 9ms/step - loss: 0.3687\n",
            "Epoch 53/200\n",
            "1/1 [==============================] - 0s 9ms/step - loss: 0.3676\n",
            "Epoch 54/200\n",
            "1/1 [==============================] - 0s 12ms/step - loss: 0.3666\n",
            "Epoch 55/200\n",
            "1/1 [==============================] - 0s 10ms/step - loss: 0.3656\n",
            "Epoch 56/200\n",
            "1/1 [==============================] - 0s 10ms/step - loss: 0.3646\n",
            "Epoch 57/200\n",
            "1/1 [==============================] - 0s 10ms/step - loss: 0.3636\n",
            "Epoch 58/200\n",
            "1/1 [==============================] - 0s 11ms/step - loss: 0.3627\n",
            "Epoch 59/200\n",
            "1/1 [==============================] - 0s 9ms/step - loss: 0.3617\n",
            "Epoch 60/200\n",
            "1/1 [==============================] - 0s 9ms/step - loss: 0.3608\n",
            "Epoch 61/200\n",
            "1/1 [==============================] - 0s 9ms/step - loss: 0.3599\n",
            "Epoch 62/200\n",
            "1/1 [==============================] - 0s 11ms/step - loss: 0.3591\n",
            "Epoch 63/200\n",
            "1/1 [==============================] - 0s 10ms/step - loss: 0.3582\n",
            "Epoch 64/200\n",
            "1/1 [==============================] - 0s 10ms/step - loss: 0.3574\n",
            "Epoch 65/200\n",
            "1/1 [==============================] - 0s 12ms/step - loss: 0.3566\n",
            "Epoch 66/200\n",
            "1/1 [==============================] - 0s 9ms/step - loss: 0.3557\n",
            "Epoch 67/200\n",
            "1/1 [==============================] - 0s 11ms/step - loss: 0.3550\n",
            "Epoch 68/200\n",
            "1/1 [==============================] - 0s 11ms/step - loss: 0.3542\n",
            "Epoch 69/200\n",
            "1/1 [==============================] - 0s 10ms/step - loss: 0.3534\n",
            "Epoch 70/200\n",
            "1/1 [==============================] - 0s 9ms/step - loss: 0.3527\n",
            "Epoch 71/200\n",
            "1/1 [==============================] - 0s 10ms/step - loss: 0.3520\n",
            "Epoch 72/200\n",
            "1/1 [==============================] - 0s 9ms/step - loss: 0.3513\n",
            "Epoch 73/200\n",
            "1/1 [==============================] - 0s 10ms/step - loss: 0.3506\n",
            "Epoch 74/200\n",
            "1/1 [==============================] - 0s 10ms/step - loss: 0.3499\n",
            "Epoch 75/200\n",
            "1/1 [==============================] - 0s 10ms/step - loss: 0.3492\n",
            "Epoch 76/200\n",
            "1/1 [==============================] - 0s 9ms/step - loss: 0.3486\n",
            "Epoch 77/200\n",
            "1/1 [==============================] - 0s 10ms/step - loss: 0.3479\n",
            "Epoch 78/200\n",
            "1/1 [==============================] - 0s 11ms/step - loss: 0.3473\n",
            "Epoch 79/200\n",
            "1/1 [==============================] - 0s 10ms/step - loss: 0.3467\n",
            "Epoch 80/200\n",
            "1/1 [==============================] - 0s 9ms/step - loss: 0.3461\n",
            "Epoch 81/200\n",
            "1/1 [==============================] - 0s 10ms/step - loss: 0.3455\n",
            "Epoch 82/200\n",
            "1/1 [==============================] - 0s 10ms/step - loss: 0.3449\n",
            "Epoch 83/200\n",
            "1/1 [==============================] - 0s 9ms/step - loss: 0.3444\n",
            "Epoch 84/200\n",
            "1/1 [==============================] - 0s 9ms/step - loss: 0.3438\n",
            "Epoch 85/200\n",
            "1/1 [==============================] - 0s 10ms/step - loss: 0.3433\n",
            "Epoch 86/200\n",
            "1/1 [==============================] - 0s 10ms/step - loss: 0.3427\n",
            "Epoch 87/200\n",
            "1/1 [==============================] - 0s 9ms/step - loss: 0.3422\n",
            "Epoch 88/200\n",
            "1/1 [==============================] - 0s 9ms/step - loss: 0.3417\n",
            "Epoch 89/200\n",
            "1/1 [==============================] - 0s 10ms/step - loss: 0.3412\n",
            "Epoch 90/200\n",
            "1/1 [==============================] - 0s 10ms/step - loss: 0.3407\n",
            "Epoch 91/200\n",
            "1/1 [==============================] - 0s 9ms/step - loss: 0.3402\n",
            "Epoch 92/200\n",
            "1/1 [==============================] - 0s 9ms/step - loss: 0.3398\n",
            "Epoch 93/200\n",
            "1/1 [==============================] - 0s 13ms/step - loss: 0.3393\n",
            "Epoch 94/200\n",
            "1/1 [==============================] - 0s 10ms/step - loss: 0.3389\n",
            "Epoch 95/200\n",
            "1/1 [==============================] - 0s 10ms/step - loss: 0.3384\n",
            "Epoch 96/200\n",
            "1/1 [==============================] - 0s 9ms/step - loss: 0.3380\n",
            "Epoch 97/200\n",
            "1/1 [==============================] - 0s 9ms/step - loss: 0.3376\n",
            "Epoch 98/200\n",
            "1/1 [==============================] - 0s 10ms/step - loss: 0.3372\n",
            "Epoch 99/200\n",
            "1/1 [==============================] - 0s 9ms/step - loss: 0.3368\n",
            "Epoch 100/200\n",
            "1/1 [==============================] - 0s 10ms/step - loss: 0.3364\n",
            "Epoch 101/200\n",
            "1/1 [==============================] - 0s 11ms/step - loss: 0.3360\n",
            "Epoch 102/200\n",
            "1/1 [==============================] - 0s 11ms/step - loss: 0.3356\n",
            "Epoch 103/200\n",
            "1/1 [==============================] - 0s 11ms/step - loss: 0.3352\n",
            "Epoch 104/200\n",
            "1/1 [==============================] - 0s 11ms/step - loss: 0.3349\n",
            "Epoch 105/200\n",
            "1/1 [==============================] - 0s 11ms/step - loss: 0.3345\n",
            "Epoch 106/200\n",
            "1/1 [==============================] - 0s 11ms/step - loss: 0.3342\n",
            "Epoch 107/200\n",
            "1/1 [==============================] - 0s 11ms/step - loss: 0.3338\n",
            "Epoch 108/200\n",
            "1/1 [==============================] - 0s 10ms/step - loss: 0.3335\n",
            "Epoch 109/200\n",
            "1/1 [==============================] - 0s 10ms/step - loss: 0.3331\n",
            "Epoch 110/200\n",
            "1/1 [==============================] - 0s 10ms/step - loss: 0.3328\n",
            "Epoch 111/200\n",
            "1/1 [==============================] - 0s 10ms/step - loss: 0.3325\n",
            "Epoch 112/200\n",
            "1/1 [==============================] - 0s 12ms/step - loss: 0.3322\n",
            "Epoch 113/200\n",
            "1/1 [==============================] - 0s 9ms/step - loss: 0.3319\n",
            "Epoch 114/200\n",
            "1/1 [==============================] - 0s 12ms/step - loss: 0.3316\n",
            "Epoch 115/200\n",
            "1/1 [==============================] - 0s 9ms/step - loss: 0.3313\n",
            "Epoch 116/200\n",
            "1/1 [==============================] - 0s 10ms/step - loss: 0.3310\n",
            "Epoch 117/200\n",
            "1/1 [==============================] - 0s 8ms/step - loss: 0.3307\n",
            "Epoch 118/200\n",
            "1/1 [==============================] - 0s 9ms/step - loss: 0.3305\n",
            "Epoch 119/200\n",
            "1/1 [==============================] - 0s 9ms/step - loss: 0.3302\n",
            "Epoch 120/200\n",
            "1/1 [==============================] - 0s 10ms/step - loss: 0.3299\n",
            "Epoch 121/200\n",
            "1/1 [==============================] - 0s 10ms/step - loss: 0.3297\n",
            "Epoch 122/200\n",
            "1/1 [==============================] - 0s 9ms/step - loss: 0.3294\n",
            "Epoch 123/200\n",
            "1/1 [==============================] - 0s 10ms/step - loss: 0.3292\n",
            "Epoch 124/200\n",
            "1/1 [==============================] - 0s 10ms/step - loss: 0.3289\n",
            "Epoch 125/200\n",
            "1/1 [==============================] - 0s 9ms/step - loss: 0.3287\n",
            "Epoch 126/200\n",
            "1/1 [==============================] - 0s 9ms/step - loss: 0.3285\n",
            "Epoch 127/200\n",
            "1/1 [==============================] - 0s 10ms/step - loss: 0.3283\n",
            "Epoch 128/200\n",
            "1/1 [==============================] - 0s 10ms/step - loss: 0.3280\n",
            "Epoch 129/200\n",
            "1/1 [==============================] - 0s 10ms/step - loss: 0.3278\n",
            "Epoch 130/200\n",
            "1/1 [==============================] - 0s 14ms/step - loss: 0.3276\n",
            "Epoch 131/200\n",
            "1/1 [==============================] - 0s 9ms/step - loss: 0.3274\n",
            "Epoch 132/200\n",
            "1/1 [==============================] - 0s 10ms/step - loss: 0.3272\n",
            "Epoch 133/200\n",
            "1/1 [==============================] - 0s 9ms/step - loss: 0.3270\n",
            "Epoch 134/200\n",
            "1/1 [==============================] - 0s 9ms/step - loss: 0.3268\n",
            "Epoch 135/200\n",
            "1/1 [==============================] - 0s 10ms/step - loss: 0.3266\n",
            "Epoch 136/200\n",
            "1/1 [==============================] - 0s 8ms/step - loss: 0.3264\n",
            "Epoch 137/200\n",
            "1/1 [==============================] - 0s 9ms/step - loss: 0.3262\n",
            "Epoch 138/200\n",
            "1/1 [==============================] - 0s 10ms/step - loss: 0.3261\n",
            "Epoch 139/200\n",
            "1/1 [==============================] - 0s 11ms/step - loss: 0.3259\n",
            "Epoch 140/200\n",
            "1/1 [==============================] - 0s 9ms/step - loss: 0.3257\n",
            "Epoch 141/200\n",
            "1/1 [==============================] - 0s 10ms/step - loss: 0.3255\n",
            "Epoch 142/200\n",
            "1/1 [==============================] - 0s 10ms/step - loss: 0.3254\n",
            "Epoch 143/200\n",
            "1/1 [==============================] - 0s 9ms/step - loss: 0.3252\n",
            "Epoch 144/200\n",
            "1/1 [==============================] - 0s 10ms/step - loss: 0.3250\n",
            "Epoch 145/200\n",
            "1/1 [==============================] - 0s 11ms/step - loss: 0.3249\n",
            "Epoch 146/200\n",
            "1/1 [==============================] - 0s 10ms/step - loss: 0.3247\n",
            "Epoch 147/200\n",
            "1/1 [==============================] - 0s 11ms/step - loss: 0.3246\n",
            "Epoch 148/200\n",
            "1/1 [==============================] - 0s 11ms/step - loss: 0.3244\n",
            "Epoch 149/200\n",
            "1/1 [==============================] - 0s 10ms/step - loss: 0.3243\n",
            "Epoch 150/200\n",
            "1/1 [==============================] - 0s 10ms/step - loss: 0.3242\n",
            "Epoch 151/200\n",
            "1/1 [==============================] - 0s 10ms/step - loss: 0.3240\n",
            "Epoch 152/200\n",
            "1/1 [==============================] - 0s 12ms/step - loss: 0.3239\n",
            "Epoch 153/200\n",
            "1/1 [==============================] - 0s 10ms/step - loss: 0.3238\n",
            "Epoch 154/200\n",
            "1/1 [==============================] - 0s 10ms/step - loss: 0.3236\n",
            "Epoch 155/200\n",
            "1/1 [==============================] - 0s 12ms/step - loss: 0.3235\n",
            "Epoch 156/200\n",
            "1/1 [==============================] - 0s 10ms/step - loss: 0.3234\n",
            "Epoch 157/200\n",
            "1/1 [==============================] - 0s 10ms/step - loss: 0.3233\n",
            "Epoch 158/200\n",
            "1/1 [==============================] - 0s 10ms/step - loss: 0.3231\n",
            "Epoch 159/200\n",
            "1/1 [==============================] - 0s 14ms/step - loss: 0.3230\n",
            "Epoch 160/200\n",
            "1/1 [==============================] - 0s 9ms/step - loss: 0.3229\n",
            "Epoch 161/200\n",
            "1/1 [==============================] - 0s 10ms/step - loss: 0.3228\n",
            "Epoch 162/200\n",
            "1/1 [==============================] - 0s 11ms/step - loss: 0.3227\n",
            "Epoch 163/200\n",
            "1/1 [==============================] - 0s 10ms/step - loss: 0.3226\n",
            "Epoch 164/200\n",
            "1/1 [==============================] - 0s 10ms/step - loss: 0.3225\n",
            "Epoch 165/200\n",
            "1/1 [==============================] - 0s 10ms/step - loss: 0.3224\n",
            "Epoch 166/200\n",
            "1/1 [==============================] - 0s 9ms/step - loss: 0.3223\n",
            "Epoch 167/200\n",
            "1/1 [==============================] - 0s 10ms/step - loss: 0.3222\n",
            "Epoch 168/200\n",
            "1/1 [==============================] - 0s 9ms/step - loss: 0.3221\n",
            "Epoch 169/200\n",
            "1/1 [==============================] - 0s 10ms/step - loss: 0.3220\n",
            "Epoch 170/200\n",
            "1/1 [==============================] - 0s 11ms/step - loss: 0.3219\n",
            "Epoch 171/200\n",
            "1/1 [==============================] - 0s 10ms/step - loss: 0.3218\n",
            "Epoch 172/200\n",
            "1/1 [==============================] - 0s 10ms/step - loss: 0.3217\n",
            "Epoch 173/200\n",
            "1/1 [==============================] - 0s 12ms/step - loss: 0.3216\n",
            "Epoch 174/200\n",
            "1/1 [==============================] - 0s 10ms/step - loss: 0.3215\n",
            "Epoch 175/200\n",
            "1/1 [==============================] - 0s 10ms/step - loss: 0.3214\n",
            "Epoch 176/200\n",
            "1/1 [==============================] - 0s 11ms/step - loss: 0.3214\n",
            "Epoch 177/200\n",
            "1/1 [==============================] - 0s 9ms/step - loss: 0.3213\n",
            "Epoch 178/200\n",
            "1/1 [==============================] - 0s 10ms/step - loss: 0.3212\n",
            "Epoch 179/200\n",
            "1/1 [==============================] - 0s 10ms/step - loss: 0.3211\n",
            "Epoch 180/200\n",
            "1/1 [==============================] - 0s 9ms/step - loss: 0.3211\n",
            "Epoch 181/200\n",
            "1/1 [==============================] - 0s 10ms/step - loss: 0.3210\n",
            "Epoch 182/200\n",
            "1/1 [==============================] - 0s 11ms/step - loss: 0.3209\n",
            "Epoch 183/200\n",
            "1/1 [==============================] - 0s 10ms/step - loss: 0.3208\n",
            "Epoch 184/200\n",
            "1/1 [==============================] - 0s 10ms/step - loss: 0.3208\n",
            "Epoch 185/200\n",
            "1/1 [==============================] - 0s 10ms/step - loss: 0.3207\n",
            "Epoch 186/200\n",
            "1/1 [==============================] - 0s 10ms/step - loss: 0.3206\n",
            "Epoch 187/200\n",
            "1/1 [==============================] - 0s 12ms/step - loss: 0.3206\n",
            "Epoch 188/200\n",
            "1/1 [==============================] - 0s 10ms/step - loss: 0.3205\n",
            "Epoch 189/200\n",
            "1/1 [==============================] - 0s 9ms/step - loss: 0.3204\n",
            "Epoch 190/200\n",
            "1/1 [==============================] - 0s 9ms/step - loss: 0.3204\n",
            "Epoch 191/200\n",
            "1/1 [==============================] - 0s 10ms/step - loss: 0.3203\n",
            "Epoch 192/200\n",
            "1/1 [==============================] - 0s 10ms/step - loss: 0.3203\n",
            "Epoch 193/200\n",
            "1/1 [==============================] - 0s 15ms/step - loss: 0.3202\n",
            "Epoch 194/200\n",
            "1/1 [==============================] - 0s 10ms/step - loss: 0.3201\n",
            "Epoch 195/200\n",
            "1/1 [==============================] - 0s 11ms/step - loss: 0.3201\n",
            "Epoch 196/200\n",
            "1/1 [==============================] - 0s 10ms/step - loss: 0.3200\n",
            "Epoch 197/200\n",
            "1/1 [==============================] - 0s 10ms/step - loss: 0.3200\n",
            "Epoch 198/200\n",
            "1/1 [==============================] - 0s 9ms/step - loss: 0.3199\n",
            "Epoch 199/200\n",
            "1/1 [==============================] - 0s 10ms/step - loss: 0.3199\n",
            "Epoch 200/200\n",
            "1/1 [==============================] - 0s 11ms/step - loss: 0.3198\n"
          ]
        },
        {
          "output_type": "execute_result",
          "data": {
            "text/plain": [
              "<keras.src.callbacks.History at 0x7d5c11b99840>"
            ]
          },
          "metadata": {},
          "execution_count": 3
        }
      ]
    },
    {
      "cell_type": "markdown",
      "source": [
        "## Generate a SavedModel"
      ],
      "metadata": {
        "id": "FtzwWM2vEWmw"
      }
    },
    {
      "cell_type": "code",
      "source": [
        "export_dir = 'saved_model/1'\n",
        "tf.saved_model.save(model, export_dir)"
      ],
      "metadata": {
        "id": "vAKiA3SxEPpS"
      },
      "execution_count": 4,
      "outputs": []
    },
    {
      "cell_type": "markdown",
      "source": [
        "## Convert the SavedModel to TFLite"
      ],
      "metadata": {
        "id": "BJvsjiTLEhgJ"
      }
    },
    {
      "cell_type": "code",
      "source": [
        "# Convert the model\n",
        "converter = tf.lite.TFLiteConverter.from_saved_model(export_dir)\n",
        "tflite_model = converter.convert()"
      ],
      "metadata": {
        "id": "knBCzudUEgh6"
      },
      "execution_count": 5,
      "outputs": []
    },
    {
      "cell_type": "code",
      "source": [
        "tflite_model_file = pathlib.Path('model.tflite')\n",
        "tflite_model_file.write_bytes(tflite_model)"
      ],
      "metadata": {
        "colab": {
          "base_uri": "https://localhost:8080/"
        },
        "id": "1zsbBSxTErRB",
        "outputId": "cb7d2252-458d-4758-f59d-651acf60b4b9"
      },
      "execution_count": 6,
      "outputs": [
        {
          "output_type": "execute_result",
          "data": {
            "text/plain": [
              "1080"
            ]
          },
          "metadata": {},
          "execution_count": 6
        }
      ]
    },
    {
      "cell_type": "markdown",
      "source": [
        "## Initialize the TFLite Interpreter to Try it Out"
      ],
      "metadata": {
        "id": "gCrB6cx1E7yU"
      }
    },
    {
      "cell_type": "code",
      "source": [
        "# Load TFLite model and allocate tensors\n",
        "interpreter = tf.lite.Interpreter(model_content=tflite_model)\n",
        "interpreter.allocate_tensors()\n",
        "\n",
        "# Get input and output tensors\n",
        "input_details = interpreter.get_input_details()\n",
        "output_details = interpreter.get_output_details()"
      ],
      "metadata": {
        "id": "Yy1OYAQxE6B0"
      },
      "execution_count": 8,
      "outputs": []
    },
    {
      "cell_type": "code",
      "source": [
        "# Test the TensorFlow Lite model on random input data\n",
        "input_shape = input_details[0]['shape']\n",
        "inputs, outputs = [], []\n",
        "\n",
        "for _ in range(100):\n",
        "  input_data = np.array(np.random.random_sample(input_shape), dtype=np.float32)\n",
        "  interpreter.set_tensor(input_details[0]['index'], input_data)\n",
        "\n",
        "  interpreter.invoke()\n",
        "  tflite_results = interpreter.get_tensor(output_details[0]['index'])\n",
        "\n",
        "  # Test the TensorFlow model on random input data\n",
        "  tf_results = model(tf.constant(input_data))\n",
        "  output_data = np.array(tf_results)\n",
        "\n",
        "  inputs.append(input_data[0][0])\n",
        "  outputs.append(output_data[0][0])\n"
      ],
      "metadata": {
        "id": "JlcUmQKaFTSa"
      },
      "execution_count": 9,
      "outputs": []
    },
    {
      "cell_type": "markdown",
      "source": [
        "## Visualize the Model"
      ],
      "metadata": {
        "id": "AG1-xmXgGIAI"
      }
    },
    {
      "cell_type": "code",
      "source": [
        "%matplotlib inline\n",
        "\n",
        "plt.plot(inputs, outputs, 'r')\n",
        "plt.show()"
      ],
      "metadata": {
        "colab": {
          "base_uri": "https://localhost:8080/",
          "height": 430
        },
        "id": "XDajK-HSGGao",
        "outputId": "fe556a74-3710-4018-cd64-a0cc2e3ae6e0"
      },
      "execution_count": 10,
      "outputs": [
        {
          "output_type": "display_data",
          "data": {
            "text/plain": [
              "<Figure size 640x480 with 1 Axes>"
            ],
            "image/png": "[encoded data removed]"
          },
          "metadata": {}
        }
      ]
    },
    {
      "cell_type": "markdown",
      "source": [
        "## Download the TFLite Model File"
      ],
      "metadata": {
        "id": "tUCfLcNVGPcB"
      }
    },
    {
      "cell_type": "code",
      "source": [
        "try:\n",
        "  from google.colab import files\n",
        "  files.download(tflite_model_file)\n",
        "except:\n",
        "  pass"
      ],
      "metadata": {
        "colab": {
          "base_uri": "https://localhost:8080/",
          "height": 17
        },
        "id": "O9oAAnkDGO_F",
        "outputId": "75524eb8-53e3-4dc3-a03e-1bf835f2fb55"
      },
      "execution_count": 11,
      "outputs": [
        {
          "output_type": "display_data",
          "data": {
            "text/plain": [
              "<IPython.core.display.Javascript object>"
            ],
            "application/javascript": [
              "\n",
              "    async function download(id, filename, size) {\n",
              "      if (!google.colab.kernel.accessAllowed) {\n",
              "        return;\n",
              "      }\n",
              "      const div = document.createElement('div');\n",
              "      const label = document.createElement('label');\n",
              "      label.textContent = `Downloading \"${filename}\": `;\n",
              "      div.appendChild(label);\n",
              "      const progress = document.createElement('progress');\n",
              "      progress.max = size;\n",
              "      div.appendChild(progress);\n",
              "      document.body.appendChild(div);\n",
              "\n",
              "      const buffers = [];\n",
              "      let downloaded = 0;\n",
              "\n",
              "      const channel = await google.colab.kernel.comms.open(id);\n",
              "      // Send a message to notify the kernel that we're ready.\n",
              "      channel.send({})\n",
              "\n",
              "      for await (const message of channel.messages) {\n",
              "        // Send a message to notify the kernel that we're ready.\n",
              "        channel.send({})\n",
              "        if (message.buffers) {\n",
              "          for (const buffer of message.buffers) {\n",
              "            buffers.push(buffer);\n",
              "            downloaded += buffer.byteLength;\n",
              "            progress.value = downloaded;\n",
              "          }\n",
              "        }\n",
              "      }\n",
              "      const blob = new Blob(buffers, {type: 'application/binary'});\n",
              "      const a = document.createElement('a');\n",
              "      a.href = window.URL.createObjectURL(blob);\n",
              "      a.download = filename;\n",
              "      div.appendChild(a);\n",
              "      a.click();\n",
              "      div.remove();\n",
              "    }\n",
              "  "
            ]
          },
          "metadata": {}
        },
        {
          "output_type": "display_data",
          "data": {
            "text/plain": [
              "<IPython.core.display.Javascript object>"
            ],
            "application/javascript": [
              "download(\"download_68112afa-3361-424b-a995-42c760bcd49e\", \"model.tflite\", 1080)"
            ]
          },
          "metadata": {}
        }
      ]
    },
    {
      "cell_type": "code",
      "source": [],
      "metadata": {
        "id": "CMKr_eykGYLT"
      },
      "execution_count": null,
      "outputs": []
    }
  ]
}