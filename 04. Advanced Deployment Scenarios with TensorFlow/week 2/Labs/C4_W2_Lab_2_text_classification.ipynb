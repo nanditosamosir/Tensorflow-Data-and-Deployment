{
  "nbformat": 4,
  "nbformat_minor": 0,
  "metadata": {
    "colab": {
      "provenance": []
    },
    "kernelspec": {
      "name": "python3",
      "display_name": "Python 3"
    },
    "language_info": {
      "name": "python"
    }
  },
  "cells": [
    {
      "cell_type": "markdown",
      "source": [
        "# Text Classification"
      ],
      "metadata": {
        "id": "POnS2HwLoCVQ"
      }
    },
    {
      "cell_type": "markdown",
      "source": [
        "## Setup"
      ],
      "metadata": {
        "id": "Fx1zBNbGoG_4"
      }
    },
    {
      "cell_type": "code",
      "execution_count": 1,
      "metadata": {
        "colab": {
          "base_uri": "https://localhost:8080/"
        },
        "id": "FPCRNCwEoBD5",
        "outputId": "62c28cc0-aa7b-4a98-8aac-fa0b874d4f77"
      },
      "outputs": [
        {
          "output_type": "stream",
          "name": "stdout",
          "text": [
            "Colab only includes TensorFlow 2.x; %tensorflow_version has no effect.\n"
          ]
        }
      ],
      "source": [
        "try:\n",
        "    %tensorflow_version 2.x\n",
        "except:\n",
        "    pass"
      ]
    },
    {
      "cell_type": "code",
      "source": [
        "import tensorflow as tf\n",
        "import tensorflow_hub as hub\n",
        "import tensorflow_datasets as tfds\n",
        "tfds.disable_progress_bar()\n",
        "\n",
        "print(\"\\u2022 Using TensorFlow Version:\", tf.__version__)"
      ],
      "metadata": {
        "colab": {
          "base_uri": "https://localhost:8080/"
        },
        "id": "ewkXIqz5oJAE",
        "outputId": "23881201-77b8-4295-dce5-d7dc81cbaf14"
      },
      "execution_count": 2,
      "outputs": [
        {
          "output_type": "stream",
          "name": "stdout",
          "text": [
            "• Using TensorFlow Version: 2.15.0\n"
          ]
        }
      ]
    },
    {
      "cell_type": "markdown",
      "source": [
        "## Download the IMDB Dataset"
      ],
      "metadata": {
        "id": "PSDp8fPAoLZh"
      }
    },
    {
      "cell_type": "code",
      "source": [
        "splits = ['train[:60%]', 'train[-40%:]', 'test']\n",
        "\n",
        "splits, info = tfds.load(name='imdb_reviews', with_info=True, split=splits, as_supervised=True)\n",
        "\n",
        "train_data, validation_data, test_data = splits"
      ],
      "metadata": {
        "colab": {
          "base_uri": "https://localhost:8080/"
        },
        "id": "54mSYgRHoK6-",
        "outputId": "bbb066a0-eea3-4e61-ca92-85554b5553b8"
      },
      "execution_count": 3,
      "outputs": [
        {
          "output_type": "stream",
          "name": "stdout",
          "text": [
            "Downloading and preparing dataset 80.23 MiB (download: 80.23 MiB, generated: Unknown size, total: 80.23 MiB) to /root/tensorflow_datasets/imdb_reviews/plain_text/1.0.0...\n",
            "Dataset imdb_reviews downloaded and prepared to /root/tensorflow_datasets/imdb_reviews/plain_text/1.0.0. Subsequent calls will reuse this data.\n"
          ]
        }
      ]
    },
    {
      "cell_type": "markdown",
      "source": [
        "## Explore the Data"
      ],
      "metadata": {
        "id": "rsF7GNqpom2h"
      }
    },
    {
      "cell_type": "code",
      "source": [
        "num_train_examples = info.splits['train'].num_examples\n",
        "num_test_examples = info.splits['test'].num_examples\n",
        "num_classes = info.features['label'].num_classes\n",
        "\n",
        "print('The Dataset has a total of:')\n",
        "print('\\u2022 {:,} classes'.format(num_classes))\n",
        "\n",
        "print('\\u2022 {:,} movie reviews for training'.format(num_train_examples))\n",
        "print('\\u2022 {:,} movie reviews for testing'.format(num_test_examples))"
      ],
      "metadata": {
        "colab": {
          "base_uri": "https://localhost:8080/"
        },
        "id": "5XJOV-IzoksO",
        "outputId": "2698ba65-7d10-4d72-8105-ff585bda6938"
      },
      "execution_count": 4,
      "outputs": [
        {
          "output_type": "stream",
          "name": "stdout",
          "text": [
            "The Dataset has a total of:\n",
            "• 2 classes\n",
            "• 25,000 movie reviews for training\n",
            "• 25,000 movie reviews for testing\n"
          ]
        }
      ]
    },
    {
      "cell_type": "code",
      "source": [
        "class_names = ['negative', 'positive']"
      ],
      "metadata": {
        "id": "QuyITJf5pBVt"
      },
      "execution_count": 5,
      "outputs": []
    },
    {
      "cell_type": "code",
      "source": [
        "for review, label in train_data.take(1):\n",
        "  review = review.numpy()\n",
        "  label = label.numpy()\n",
        "\n",
        "  print('\\nMovie Review:\\n\\n', review)\n",
        "  print('\\nLabel:', class_names[label])"
      ],
      "metadata": {
        "colab": {
          "base_uri": "https://localhost:8080/"
        },
        "id": "5q1YXcTspIYQ",
        "outputId": "dfffc9ed-fa1d-476e-c2d9-7e836a1e69b5"
      },
      "execution_count": 6,
      "outputs": [
        {
          "output_type": "stream",
          "name": "stdout",
          "text": [
            "\n",
            "Movie Review:\n",
            "\n",
            " b\"This was an absolutely terrible movie. Don't be lured in by Christopher Walken or Michael Ironside. Both are great actors, but this must simply be their worst role in history. Even their great acting could not redeem this movie's ridiculous storyline. This movie is an early nineties US propaganda piece. The most pathetic scenes were those when the Columbian rebels were making their cases for revolutions. Maria Conchita Alonso appeared phony, and her pseudo-love affair with Walken was nothing but a pathetic emotional plug in a movie that was devoid of any real meaning. I am disappointed that there are movies like this, ruining actor's like Christopher Walken's good name. I could barely sit through it.\"\n",
            "\n",
            "Label: negative\n"
          ]
        }
      ]
    },
    {
      "cell_type": "markdown",
      "source": [
        "## Load Word Embeddings"
      ],
      "metadata": {
        "id": "YrIH4FNRpjhx"
      }
    },
    {
      "cell_type": "code",
      "source": [
        "# If you are running the notebook on Colab\n",
        "embedding = \"https://tfhub.dev/google/tf2-preview/gnews-swivel-20dim/1\"\n",
        "\n",
        "# # if you are running the notebook on your local machine\n",
        "# embedding = \"./models/tf2-preview_gnews-swivel-20dim_1\"\n",
        "\n",
        "hub_layer = hub.KerasLayer(embedding, input_shape=[], dtype=tf.string, trainable=True)"
      ],
      "metadata": {
        "id": "rdOekg9lpbZI"
      },
      "execution_count": 7,
      "outputs": []
    },
    {
      "cell_type": "markdown",
      "source": [
        "## Build Pipeline"
      ],
      "metadata": {
        "id": "uHHuQ0W4t28Z"
      }
    },
    {
      "cell_type": "code",
      "source": [
        "batch_size = 512\n",
        "\n",
        "train_batches = train_data.shuffle(num_train_examples // 4).batch(batch_size).prefetch(1)\n",
        "validation_batches = validation_data.batch(batch_size).prefetch(1)\n",
        "test_batches = test_data.batch(batch_size)"
      ],
      "metadata": {
        "id": "IQCUZOeIp5XP"
      },
      "execution_count": 8,
      "outputs": []
    },
    {
      "cell_type": "markdown",
      "source": [
        "## Build the Model"
      ],
      "metadata": {
        "id": "vRVLsDjhuKx5"
      }
    },
    {
      "cell_type": "code",
      "source": [
        "model = tf.keras.Sequential([\n",
        "    hub_layer,\n",
        "    tf.keras.layers.Dense(16, activation='relu'),\n",
        "    tf.keras.layers.Dense(1, activation='sigmoid')\n",
        "])"
      ],
      "metadata": {
        "id": "oj9KtDz7uJX8"
      },
      "execution_count": 9,
      "outputs": []
    },
    {
      "cell_type": "markdown",
      "source": [
        "## Train the Model"
      ],
      "metadata": {
        "id": "7wF-bbHTuUnP"
      }
    },
    {
      "cell_type": "code",
      "source": [
        "model.compile(optimizer='adam',\n",
        "              loss='binary_crossentropy',\n",
        "              metrics='accuracy')\n",
        "\n",
        "history = model.fit(train_batches,\n",
        "                    epochs=20,\n",
        "                    validation_data=validation_batches)"
      ],
      "metadata": {
        "colab": {
          "base_uri": "https://localhost:8080/"
        },
        "id": "gC5SLNYvuTTd",
        "outputId": "4550cd89-0f71-4478-b6d3-f12eb338da11"
      },
      "execution_count": 10,
      "outputs": [
        {
          "output_type": "stream",
          "name": "stdout",
          "text": [
            "Epoch 1/20\n",
            "30/30 [==============================] - 5s 100ms/step - loss: 0.9135 - accuracy: 0.5377 - val_loss: 0.7500 - val_accuracy: 0.5767\n",
            "Epoch 2/20\n",
            "30/30 [==============================] - 5s 156ms/step - loss: 0.7142 - accuracy: 0.5974 - val_loss: 0.6838 - val_accuracy: 0.6149\n",
            "Epoch 3/20\n",
            "30/30 [==============================] - 3s 105ms/step - loss: 0.6548 - accuracy: 0.6325 - val_loss: 0.6347 - val_accuracy: 0.6572\n",
            "Epoch 4/20\n",
            "30/30 [==============================] - 3s 102ms/step - loss: 0.6033 - accuracy: 0.6741 - val_loss: 0.5954 - val_accuracy: 0.6873\n",
            "Epoch 5/20\n",
            "30/30 [==============================] - 4s 113ms/step - loss: 0.5611 - accuracy: 0.7138 - val_loss: 0.5608 - val_accuracy: 0.7160\n",
            "Epoch 6/20\n",
            "30/30 [==============================] - 4s 121ms/step - loss: 0.5248 - accuracy: 0.7447 - val_loss: 0.5311 - val_accuracy: 0.7404\n",
            "Epoch 7/20\n",
            "30/30 [==============================] - 6s 189ms/step - loss: 0.4915 - accuracy: 0.7716 - val_loss: 0.5035 - val_accuracy: 0.7615\n",
            "Epoch 8/20\n",
            "30/30 [==============================] - 5s 152ms/step - loss: 0.4594 - accuracy: 0.7941 - val_loss: 0.4773 - val_accuracy: 0.7786\n",
            "Epoch 9/20\n",
            "30/30 [==============================] - 6s 206ms/step - loss: 0.4287 - accuracy: 0.8108 - val_loss: 0.4527 - val_accuracy: 0.7918\n",
            "Epoch 10/20\n",
            "30/30 [==============================] - 5s 153ms/step - loss: 0.3986 - accuracy: 0.8305 - val_loss: 0.4296 - val_accuracy: 0.8066\n",
            "Epoch 11/20\n",
            "30/30 [==============================] - 4s 114ms/step - loss: 0.3700 - accuracy: 0.8458 - val_loss: 0.4094 - val_accuracy: 0.8192\n",
            "Epoch 12/20\n",
            "30/30 [==============================] - 2s 77ms/step - loss: 0.3439 - accuracy: 0.8598 - val_loss: 0.3917 - val_accuracy: 0.8292\n",
            "Epoch 13/20\n",
            "30/30 [==============================] - 5s 168ms/step - loss: 0.3195 - accuracy: 0.8717 - val_loss: 0.3733 - val_accuracy: 0.8391\n",
            "Epoch 14/20\n",
            "30/30 [==============================] - 2s 74ms/step - loss: 0.2969 - accuracy: 0.8842 - val_loss: 0.3595 - val_accuracy: 0.8465\n",
            "Epoch 15/20\n",
            "30/30 [==============================] - 3s 80ms/step - loss: 0.2771 - accuracy: 0.8935 - val_loss: 0.3485 - val_accuracy: 0.8533\n",
            "Epoch 16/20\n",
            "30/30 [==============================] - 3s 86ms/step - loss: 0.2590 - accuracy: 0.9015 - val_loss: 0.3390 - val_accuracy: 0.8577\n",
            "Epoch 17/20\n",
            "30/30 [==============================] - 3s 98ms/step - loss: 0.2427 - accuracy: 0.9090 - val_loss: 0.3309 - val_accuracy: 0.8615\n",
            "Epoch 18/20\n",
            "30/30 [==============================] - 2s 78ms/step - loss: 0.2284 - accuracy: 0.9167 - val_loss: 0.3247 - val_accuracy: 0.8644\n",
            "Epoch 19/20\n",
            "30/30 [==============================] - 3s 97ms/step - loss: 0.2154 - accuracy: 0.9231 - val_loss: 0.3204 - val_accuracy: 0.8668\n",
            "Epoch 20/20\n",
            "30/30 [==============================] - 3s 91ms/step - loss: 0.2028 - accuracy: 0.9272 - val_loss: 0.3165 - val_accuracy: 0.8687\n"
          ]
        }
      ]
    },
    {
      "cell_type": "markdown",
      "source": [
        "## Evaluate the Model"
      ],
      "metadata": {
        "id": "dEYK_DIguh9Z"
      }
    },
    {
      "cell_type": "code",
      "source": [
        "eval_results = model.evaluate(test_batches, verbose=0)\n",
        "\n",
        "for metrics, value in zip(model.metrics_names, eval_results):\n",
        "  print(metrics + ': {:.3}'.format(value))"
      ],
      "metadata": {
        "colab": {
          "base_uri": "https://localhost:8080/"
        },
        "id": "uMM0zhTcug-s",
        "outputId": "545749fd-125f-4525-8afa-6fa1234f1119"
      },
      "execution_count": 11,
      "outputs": [
        {
          "output_type": "stream",
          "name": "stdout",
          "text": [
            "loss: 0.329\n",
            "accuracy: 0.859\n"
          ]
        }
      ]
    },
    {
      "cell_type": "code",
      "source": [],
      "metadata": {
        "id": "83Sbp5o0uwz1"
      },
      "execution_count": null,
      "outputs": []
    }
  ]
}